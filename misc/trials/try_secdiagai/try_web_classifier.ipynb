{
 "cells": [
  {
   "cell_type": "code",
   "execution_count": 2,
   "metadata": {},
   "outputs": [],
   "source": [
    "from secdiagai.classifier.base import WebClassifier\n",
    "from secdiagai.classifier.classifier_maker import create_web_classifier\n",
    "from secdiagai.classifier.clf_rules import rule_login\n",
    "from secdiagai.common.classification_util import make_scorer_with_rule\n",
    "from sklearn.ensemble import RandomForestClassifier\n",
    "from sklearn.pipeline import Pipeline\n",
    "from sklearn.model_selection import GridSearchCV\n",
    "from scripts.tools.cv.cv_util import load_and_create_X_y_from_json\n",
    "from sklearn.metrics import accuracy_score\n",
    "from scripts.utils.debug_util import print_attrs\n",
    "\n",
    "JSONS_BASE = '/Users/hirokisugiyama/Work/NTTTX/NTTTX_201709_/data/labels/2017-09-27_v5_part_10'\n",
    "# JSONS_BASE = '/Users/hirokisugiyama/Work/NTTTX/NTTTX_201709_/data/labels/2017-09-27_v5'\n",
    "type_label = 'login'\n",
    "X, y = load_and_create_X_y_from_json(JSONS_BASE, type_label)\n",
    "\n"
   ]
  },
  {
   "cell_type": "code",
   "execution_count": 30,
   "metadata": {},
   "outputs": [
    {
     "data": {
      "text/plain": [
       "{'bootstrap': True,\n",
       " 'class_weight': None,\n",
       " 'criterion': 'gini',\n",
       " 'max_depth': None,\n",
       " 'max_features': 'auto',\n",
       " 'max_leaf_nodes': None,\n",
       " 'min_impurity_decrease': 0.0,\n",
       " 'min_impurity_split': None,\n",
       " 'min_samples_leaf': 1,\n",
       " 'min_samples_split': 2,\n",
       " 'min_weight_fraction_leaf': 0.0,\n",
       " 'n_estimators': 10,\n",
       " 'n_jobs': 1,\n",
       " 'oob_score': False,\n",
       " 'random_state': None,\n",
       " 'verbose': 0,\n",
       " 'warm_start': False}"
      ]
     },
     "execution_count": 30,
     "metadata": {},
     "output_type": "execute_result"
    }
   ],
   "source": [
    "RandomForestClassifier().get_params()"
   ]
  },
  {
   "cell_type": "code",
   "execution_count": 24,
   "metadata": {
    "collapsed": true
   },
   "outputs": [],
   "source": [
    "# def scorer(estimator, X, y, sample_weight=None):\n",
    "#     y_pred = estimator.predict(X)\n",
    "\n",
    "#     # if rule is not None:\n",
    "#     #     # ルールが指定されている場合は適用する\n",
    "#     #     y = [rule(x, y[i]) for i, x in enumerate(X)]\n",
    "#     y_pred = [rule_login(x, y_pred[i]) for i, x in enumerate(X)]\n",
    "\n",
    "#     return accuracy_score(y, y_pred, sample_weight=sample_weight)\n",
    "\n",
    "\n",
    "def try_web_clf():\n",
    "    type_label = 'login'\n",
    "    core_clf = RandomForestClassifier()\n",
    "    w_clf = create_web_classifier(type_label, core_clf)\n",
    "\n",
    "\n",
    "core_clf = RandomForestClassifier()\n",
    "w_clf = create_web_classifier(type_label, core_clf)\n",
    "\n",
    "param_grid = [\n",
    "    {\n",
    "    'clf__n_estimators': [5, 10],\n",
    "    'clf__max_features': [None],\n",
    "    'clf__random_state': [42]\n",
    "},\n",
    "    {\n",
    "    'clf__n_estimators': [5],\n",
    "    'clf__max_features': [None, 'sqrt'],\n",
    "    'clf__random_state': [42]\n",
    "},\n",
    "    \n",
    "]\n",
    "\n",
    "# grid_with_scorer = GridSearchCV(w_clf._clf, param_grid, scoring=scorer)\n",
    "grid_without_scorer = GridSearchCV(w_clf._clf, param_grid)\n",
    "grid_with_scorer = GridSearchCV(w_clf._clf, param_grid, scoring=make_scorer_with_rule(rule_login))\n"
   ]
  },
  {
   "cell_type": "code",
   "execution_count": 25,
   "metadata": {},
   "outputs": [
    {
     "data": {
      "text/plain": [
       "GridSearchCV(cv=None, error_score='raise',\n",
       "       estimator=Pipeline(memory=None,\n",
       "     steps=[('feature_extraction', FeatureUnion(n_jobs=1,\n",
       "       transformer_list=[('button', Pipeline(memory=None,\n",
       "     steps=[('extract', <secdiagai.classifier.transformers.FormSubmitButtonNameTransformer object at 0x10f576a58>), ('count', CountVectorizer(analyzer=<function create_count_vectorizer.<loc...n_jobs=1,\n",
       "            oob_score=False, random_state=None, verbose=0,\n",
       "            warm_start=False))]),\n",
       "       fit_params=None, iid=True, n_jobs=1,\n",
       "       param_grid=[{'clf__n_estimators': [5, 10], 'clf__max_features': [None], 'clf__random_state': [42]}, {'clf__n_estimators': [5], 'clf__max_features': [None, 'sqrt'], 'clf__random_state': [42]}],\n",
       "       pre_dispatch='2*n_jobs', refit=True, return_train_score='warn',\n",
       "       scoring=None, verbose=0)"
      ]
     },
     "execution_count": 25,
     "metadata": {},
     "output_type": "execute_result"
    }
   ],
   "source": [
    "grid_without_scorer.fit(X, y)"
   ]
  },
  {
   "cell_type": "code",
   "execution_count": 26,
   "metadata": {},
   "outputs": [
    {
     "data": {
      "text/plain": [
       "GridSearchCV(cv=None, error_score='raise',\n",
       "       estimator=Pipeline(memory=None,\n",
       "     steps=[('feature_extraction', FeatureUnion(n_jobs=1,\n",
       "       transformer_list=[('button', Pipeline(memory=None,\n",
       "     steps=[('extract', <secdiagai.classifier.transformers.FormSubmitButtonNameTransformer object at 0x10f576a58>), ('count', CountVectorizer(analyzer=<function create_count_vectorizer.<loc...n_jobs=1,\n",
       "            oob_score=False, random_state=None, verbose=0,\n",
       "            warm_start=False))]),\n",
       "       fit_params=None, iid=True, n_jobs=1,\n",
       "       param_grid=[{'clf__n_estimators': [5, 10], 'clf__max_features': [None], 'clf__random_state': [42]}, {'clf__n_estimators': [5], 'clf__max_features': [None, 'sqrt'], 'clf__random_state': [42]}],\n",
       "       pre_dispatch='2*n_jobs', refit=True, return_train_score='warn',\n",
       "       scoring=functools.partial(<function make_scorer_with_rule.<locals>.scorer at 0x11802aea0>, rule=<function rule_login at 0x10f78ee18>),\n",
       "       verbose=0)"
      ]
     },
     "execution_count": 26,
     "metadata": {},
     "output_type": "execute_result"
    }
   ],
   "source": [
    "grid_with_scorer.fit(X, y)"
   ]
  },
  {
   "cell_type": "code",
   "execution_count": 27,
   "metadata": {},
   "outputs": [
    {
     "name": "stdout",
     "output_type": "stream",
     "text": [
      "0.939814814815\n",
      "{'clf__max_features': None, 'clf__n_estimators': 5, 'clf__random_state': 42}\n"
     ]
    }
   ],
   "source": [
    "print(grid_without_scorer.best_score_)\n",
    "print(grid_without_scorer.best_params_)"
   ]
  },
  {
   "cell_type": "code",
   "execution_count": 28,
   "metadata": {},
   "outputs": [
    {
     "name": "stdout",
     "output_type": "stream",
     "text": [
      "0.981481481481\n",
      "{'clf__max_features': None, 'clf__n_estimators': 5, 'clf__random_state': 42}\n",
      "0\n"
     ]
    }
   ],
   "source": [
    "print(grid_with_scorer.best_score_)\n",
    "print(grid_with_scorer.best_params_)\n",
    "print(grid_with_scorer.best_index_)"
   ]
  },
  {
   "cell_type": "code",
   "execution_count": 29,
   "metadata": {},
   "outputs": [
    {
     "name": "stdout",
     "output_type": "stream",
     "text": [
      "mean_fit_time\n",
      "[ 1.67594163  1.84189741  1.70422014  1.55429626]\n",
      "\n",
      "std_fit_time\n",
      "[ 0.37319183  0.81779101  0.54571349  0.53744005]\n",
      "\n",
      "mean_score_time\n",
      "[ 0.94201819  1.24091029  1.04816898  0.86178374]\n",
      "\n",
      "std_score_time\n",
      "[ 0.57595052  0.56791928  0.56947787  0.38310158]\n",
      "\n",
      "param_clf__max_features\n",
      "[None None None 'sqrt']\n",
      "\n",
      "param_clf__n_estimators\n",
      "[5 10 5 5]\n",
      "\n",
      "param_clf__random_state\n",
      "[42 42 42 42]\n",
      "\n",
      "params\n",
      "[{'clf__max_features': None, 'clf__n_estimators': 5, 'clf__random_state': 42}, {'clf__max_features': None, 'clf__n_estimators': 10, 'clf__random_state': 42}, {'clf__max_features': None, 'clf__n_estimators': 5, 'clf__random_state': 42}, {'clf__max_features': 'sqrt', 'clf__n_estimators': 5, 'clf__random_state': 42}]\n",
      "\n",
      "split0_test_score\n",
      "[ 0.97260274  0.97260274  0.97260274  0.95890411]\n",
      "\n",
      "split1_test_score\n",
      "[ 0.98611111  0.98611111  0.98611111  0.98611111]\n",
      "\n",
      "split2_test_score\n",
      "[ 0.98591549  0.98591549  0.98591549  0.97183099]\n",
      "\n",
      "mean_test_score\n",
      "[ 0.98148148  0.98148148  0.98148148  0.97222222]\n",
      "\n",
      "std_test_score\n",
      "[ 0.00634423  0.00634423  0.00634423  0.01114881]\n",
      "\n",
      "rank_test_score\n",
      "[1 1 1 4]\n",
      "\n",
      "split0_train_score\n",
      "[ 1.  1.  1.  1.]\n",
      "\n",
      "split1_train_score\n",
      "[ 0.99305556  0.98611111  0.99305556  0.98611111]\n",
      "\n",
      "split2_train_score\n",
      "[ 1.  1.  1.  1.]\n",
      "\n",
      "mean_train_score\n",
      "[ 0.99768519  0.99537037  0.99768519  0.99537037]\n",
      "\n",
      "std_train_score\n",
      "[ 0.00327364  0.00654729  0.00327364  0.00654729]\n",
      "\n"
     ]
    }
   ],
   "source": [
    "for k, v in grid_with_scorer.cv_results_.items():\n",
    "    print(k)\n",
    "    print(v)\n",
    "    print('')"
   ]
  }
 ],
 "metadata": {
  "kernelspec": {
   "display_name": "Python 3",
   "language": "python",
   "name": "python3"
  },
  "language_info": {
   "codemirror_mode": {
    "name": "ipython",
    "version": 3
   },
   "file_extension": ".py",
   "mimetype": "text/x-python",
   "name": "python",
   "nbconvert_exporter": "python",
   "pygments_lexer": "ipython3",
   "version": "3.6.2"
  }
 },
 "nbformat": 4,
 "nbformat_minor": 2
}
