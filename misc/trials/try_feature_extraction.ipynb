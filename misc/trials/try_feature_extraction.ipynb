{
 "cells": [
  {
   "cell_type": "code",
   "execution_count": 20,
   "metadata": {},
   "outputs": [],
   "source": [
    "from secdiagai.consts import HTML_PARSER\n",
    "from secdiagai.classifier.iteration2 import FormNeighborTextTransformer, FormSubmitTypeFileTransformer, \\\n",
    "    FormSubmitButtonNameTransformer, FormInputIdTransformer, FormInputNameTransformer, FormPageTitieTransformer, \\\n",
    "    FormLabelTransformer, FormActionTransformer, FormInputAttributeTransformer\n",
    "from secdiagai.classifier.bm25 import BM25Transformer\n",
    "\n",
    "from bs4 import BeautifulSoup\n",
    "\n",
    "from sklearn.pipeline import Pipeline\n",
    "from sklearn.feature_extraction.text import CountVectorizer\n"
   ]
  },
  {
   "cell_type": "code",
   "execution_count": 2,
   "metadata": {},
   "outputs": [],
   "source": [
    "html = '''\\\n",
    "<html>\n",
    "    <head>\n",
    "        <title>タイトル</title>\n",
    "    </head>\n",
    "    <body>\n",
    "        <h1>HTMLフォーム</h1>\n",
    "        <form id=\"login-form\" action=\"/test/test/login\">\n",
    "            <label><b>ユーザID</b></label>\n",
    "            <input id=\"login-user-id\" type=\"text\" placeholder=\"ユーザIDを入力してください\" name=\"uname\" required>\n",
    "\n",
    "            <label><b>パスワード</b></label>\n",
    "            <input id=\"login-password\" type=\"password\" placeholder=\"パスワードを入力してください\" name=\"psw\" required>\n",
    "            \n",
    "            <button type=\"submit\">ログイン</button>\n",
    "            <input type=\"checkbox\" checked=\"checked\">ログイン状態を保存する\n",
    "            \n",
    "            <input type=\"submit\" value=\"ダミーボタン\">\n",
    "        </form>\n",
    "        \n",
    "        <form id=\"sign-up-form\" action=\"/test/signUp\">\n",
    "            <div class=\"container\">\n",
    "                <label><b>Email</b></label>\n",
    "                <input type=\"text\" placeholder=\"Enter Email\" name=\"email\" required>\n",
    "\n",
    "                <label><b>Password</b></label>\n",
    "                <input type=\"password\" placeholder=\"Enter Password\" name=\"psw\" required>\n",
    "\n",
    "                <div class=\"clearfix\">\n",
    "                    <button type=\"button\"  class=\"cancelbtn\">Cancel</button>\n",
    "                    <button type=\"submit\" class=\"signupbtn\">SignUp</button>\n",
    "                </div>\n",
    "            </div>\n",
    "        </form>\n",
    "        \n",
    "        <form id=\"search-form\" action=\"/test/search\">\n",
    "            <input type=\"text\" name=\"search\" placeholder=\"Search..\">\n",
    "        </form>\n",
    "    </body>\n",
    "</html>\n",
    "'''\n",
    "forms = BeautifulSoup(html, HTML_PARSER).find_all('form')"
   ]
  },
  {
   "cell_type": "code",
   "execution_count": 16,
   "metadata": {
    "collapsed": true
   },
   "outputs": [],
   "source": [
    "html_no_action = '''\\\n",
    "<html>\n",
    "    <head>\n",
    "        <title>タイトル</title>\n",
    "    </head>\n",
    "    <body>\n",
    "        <h1>HTMLフォーム</h1>\n",
    "        <form id=\"login-form\">\n",
    "            <label><b>ユーザID</b></label>\n",
    "            <input id=\"login-user-id\" type=\"text\" placeholder=\"ユーザIDを入力してください\" name=\"uname\" required>\n",
    "\n",
    "            <label><b>パスワード</b></label>\n",
    "            <input id=\"login-password\" type=\"password\" placeholder=\"パスワードを入力してください\" name=\"psw\" required>\n",
    "            \n",
    "            <button type=\"submit\">ログイン</button>\n",
    "            <input type=\"checkbox\" checked=\"checked\">ログイン状態を保存する\n",
    "            \n",
    "            <input type=\"submit\" value=\"ダミーボタン\">\n",
    "        </form>\n",
    "        \n",
    "        <form id=\"sign-up-form\">\n",
    "            <div class=\"container\">\n",
    "                <label><b>Email</b></label>\n",
    "                <input type=\"text\" placeholder=\"Enter Email\" name=\"email\" required>\n",
    "\n",
    "                <label><b>Password</b></label>\n",
    "                <input type=\"password\" placeholder=\"Enter Password\" name=\"psw\" required>\n",
    "\n",
    "                <div class=\"clearfix\">\n",
    "                    <button type=\"button\"  class=\"cancelbtn\">Cancel</button>\n",
    "                    <button type=\"submit\" class=\"signupbtn\">SignUp</button>\n",
    "                </div>\n",
    "            </div>\n",
    "        </form>\n",
    "        \n",
    "        <form id=\"search-form\">\n",
    "            <input type=\"text\" name=\"search\" placeholder=\"Search..\">\n",
    "        </form>\n",
    "    </body>\n",
    "</html>\n",
    "'''\n",
    "forms_no_action = BeautifulSoup(html_no_action, HTML_PARSER).find_all('form')"
   ]
  },
  {
   "cell_type": "code",
   "execution_count": 22,
   "metadata": {},
   "outputs": [
    {
     "name": "stdout",
     "output_type": "stream",
     "text": [
      "[['test', 'test', 'login'], ['test', 'sign', 'up'], ['test', 'search']]\n",
      "\n",
      "  (0, 0)\t1\n",
      "  (0, 3)\t1\n",
      "  (1, 4)\t1\n",
      "  (1, 2)\t1\n",
      "  (1, 3)\t1\n",
      "  (2, 1)\t1\n",
      "  (2, 3)\t1\n",
      "\n",
      "  (0, 3)\t-2.09559554514\n",
      "  (0, 0)\t0.550119902517\n",
      "  (1, 3)\t-1.70267138042\n",
      "  (1, 2)\t0.446972420795\n",
      "  (1, 4)\t0.446972420795\n",
      "  (2, 3)\t-2.09559554514\n",
      "  (2, 1)\t0.550119902517\n",
      "\n"
     ]
    }
   ],
   "source": [
    "def print_transformed(forms):\n",
    "    form_tf = FormActionTransformer()\n",
    "    cv = CountVectorizer(analyzer=lambda x: x, binary=True)\n",
    "    bm25_tf = BM25Transformer()\n",
    "    \n",
    "    original_features = form_tf.fit_transform(forms)\n",
    "    print(original_features)\n",
    "    print('')\n",
    "    \n",
    "    counts = cv.fit_transform(original_features)\n",
    "    print(counts)\n",
    "    print('')\n",
    "    \n",
    "    bm25s = bm25_tf.fit_transform(counts)\n",
    "    print(bm25s)\n",
    "    print('')\n",
    "    \n",
    "    \n",
    "#     pipeline = Pipeline([\n",
    "#         ('extract', tf),\n",
    "#         ('count', CountVectorizer(analyzer=lambda x: x, binary=True)),\n",
    "#     ])\n",
    "#     transformed = pipeline.fit_transform(forms)\n",
    "#     print(transformed)\n",
    "#     print(type(transformed))\n",
    "#     print(transformed.shape)\n",
    "\n",
    "# print_transformed(forms_no_action)\n",
    "print_transformed(forms)"
   ]
  },
  {
   "cell_type": "code",
   "execution_count": 6,
   "metadata": {
    "collapsed": true
   },
   "outputs": [],
   "source": [
    "def print_attrs(obj):\n",
    "    for key in dir(obj):\n",
    "        print(key)\n",
    "        print(getattr(obj, key))\n",
    "        print('')"
   ]
  },
  {
   "cell_type": "code",
   "execution_count": 11,
   "metadata": {},
   "outputs": [
    {
     "name": "stdout",
     "output_type": "stream",
     "text": [
      "  (0, 0)\t1.57079632679\n",
      "  (0, 3)\tnan\n",
      "  (1, 4)\t1.57079632679\n",
      "  (1, 2)\t1.57079632679\n",
      "  (1, 3)\t1.57079632679\n",
      "  (2, 1)\t1.57079632679\n",
      "  (2, 3)\t1.57079632679\n"
     ]
    },
    {
     "name": "stderr",
     "output_type": "stream",
     "text": [
      "/usr/local/lib/python3.6/site-packages/scipy/sparse/data.py:119: RuntimeWarning: invalid value encountered in arcsin\n",
      "  result = op(self.data)\n"
     ]
    }
   ],
   "source": [
    "# print(transformed)\n",
    "# transformed??\n",
    "# print_attrs(transformed)\n",
    "print(transformed.arcsin())\n",
    "\n",
    "\n",
    "\n"
   ]
  }
 ],
 "metadata": {
  "kernelspec": {
   "display_name": "Python 3",
   "language": "python",
   "name": "python3"
  },
  "language_info": {
   "codemirror_mode": {
    "name": "ipython",
    "version": 3
   },
   "file_extension": ".py",
   "mimetype": "text/x-python",
   "name": "python",
   "nbconvert_exporter": "python",
   "pygments_lexer": "ipython3",
   "version": "3.6.2"
  }
 },
 "nbformat": 4,
 "nbformat_minor": 1
}
